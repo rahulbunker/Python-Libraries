{
 "cells": [
  {
   "cell_type": "markdown",
   "id": "8f96e681-e5b0-41a1-8741-82a51485db50",
   "metadata": {},
   "source": [
    "# Functions in Python"
   ]
  },
  {
   "cell_type": "markdown",
   "id": "19c47d15-2dc0-4f40-be42-ab4f593289d5",
   "metadata": {},
   "source": [
    "Block of statements that perform a specific task."
   ]
  },
  {
   "cell_type": "markdown",
   "id": "77e72f73-d136-4fef-9cf8-1971b4ce1682",
   "metadata": {},
   "source": [
    "Def func_name(param1,param2,..):\n",
    "    return value"
   ]
  },
  {
   "cell_type": "code",
   "execution_count": 4,
   "id": "bd59ca64-f56a-46a5-8c57-f0fda1fb64f4",
   "metadata": {},
   "outputs": [
    {
     "name": "stdout",
     "output_type": "stream",
     "text": [
      "7\n"
     ]
    }
   ],
   "source": [
    "# function definition\n",
    "def cal_sum(a,b): # parameters\n",
    "    return a+b\n",
    "\n",
    "sum=cal_sum(5,2)   # function call and arguments\n",
    "print(sum)"
   ]
  },
  {
   "cell_type": "code",
   "execution_count": 8,
   "id": "4e683439-7b60-49f6-8e26-6246ea659ba5",
   "metadata": {},
   "outputs": [
    {
     "name": "stdout",
     "output_type": "stream",
     "text": [
      "hello\n",
      "None\n"
     ]
    }
   ],
   "source": [
    "def print_hello():\n",
    "    print(\"hello\")\n",
    "\n",
    "output=print_hello()\n",
    "print(output)  # none"
   ]
  },
  {
   "cell_type": "markdown",
   "id": "5046c5d7-a308-4120-976c-d864419d8928",
   "metadata": {},
   "source": [
    "## function type in python"
   ]
  },
  {
   "cell_type": "code",
   "execution_count": 11,
   "id": "1b6e99fe-5f85-4aa7-a20a-4635b8bf103e",
   "metadata": {},
   "outputs": [],
   "source": [
    "# 1. Built-in Functions\n",
    "#     print(),len(),type(),range()\n",
    "\n"
   ]
  },
  {
   "cell_type": "code",
   "execution_count": 13,
   "id": "6571b32b-2256-498d-b7a3-2a95fb1b062f",
   "metadata": {},
   "outputs": [],
   "source": [
    "# 2. User defined Functions"
   ]
  },
  {
   "cell_type": "code",
   "execution_count": 55,
   "id": "9a4798a2-83fd-4389-98a4-5b4f2b008293",
   "metadata": {},
   "outputs": [
    {
     "name": "stdin",
     "output_type": "stream",
     "text": [
      " 17\n"
     ]
    },
    {
     "name": "stdout",
     "output_type": "stream",
     "text": [
      "prime\n"
     ]
    }
   ],
   "source": [
    "# prime No. \n",
    "def prime(num):\n",
    "    if(num>1):\n",
    "        x=0\n",
    "        for i in range(2,num):\n",
    "            if(num%i==0):\n",
    "                x=1\n",
    "                \n",
    "        if(x==0):\n",
    "            print(\"prime\")\n",
    "\n",
    "        else:\n",
    "            print(\"not prime\")\n",
    "    else:\n",
    "        print(\"not prime\")\n",
    "num=int(input())\n",
    "prime(num)"
   ]
  },
  {
   "cell_type": "code",
   "execution_count": 65,
   "id": "bd19a842-fbbe-425d-8655-1100de12e3e5",
   "metadata": {},
   "outputs": [
    {
     "name": "stdout",
     "output_type": "stream",
     "text": [
      "D E F G H \n",
      "\n",
      "I J K L \n",
      "\n",
      "M N O \n",
      "\n",
      "P Q \n",
      "\n",
      "R \n",
      "\n"
     ]
    }
   ],
   "source": [
    "def pattern(n):\n",
    "    x=68\n",
    "    for i in range(1,n):\n",
    "        for k in range(i,n):\n",
    "            print(chr(x),end=\" \")\n",
    "            x=x+1\n",
    "    \n",
    "        print(\"\\n\")\n",
    "\n",
    "n=6\n",
    "pattern(n)"
   ]
  },
  {
   "cell_type": "markdown",
   "id": "2a9686b9-3ad8-4440-bfdd-d12c6104784a",
   "metadata": {},
   "source": [
    "### L.C.M"
   ]
  },
  {
   "cell_type": "code",
   "execution_count": 76,
   "id": "6e0992c8-f587-423f-81b1-86f40b38bde7",
   "metadata": {},
   "outputs": [
    {
     "name": "stdout",
     "output_type": "stream",
     "text": [
      "LCM is : 12\n"
     ]
    }
   ],
   "source": [
    "def lcm(a,b):\n",
    "    if a>b:\n",
    "        greatest=a\n",
    "    else:\n",
    "        greatest=b\n",
    "\n",
    "    while(True):\n",
    "        if(greatest%a==0 and   greatest%b==0):\n",
    "            print(\"LCM is :\" , greatest)\n",
    "            break\n",
    "        greatest+=1\n",
    "\n",
    "lcm(4,3)"
   ]
  },
  {
   "cell_type": "markdown",
   "id": "dcf84e8d-075f-4b11-833a-8d38c729b03d",
   "metadata": {},
   "source": [
    "## H.C.F or G.C.D"
   ]
  },
  {
   "cell_type": "code",
   "execution_count": 92,
   "id": "958df148-85f4-4176-9be1-9cd73cd05f00",
   "metadata": {},
   "outputs": [
    {
     "name": "stdout",
     "output_type": "stream",
     "text": [
      "hcf is : 50\n"
     ]
    }
   ],
   "source": [
    "def hcf(x,y):\n",
    "    if(x>y):\n",
    "        max=x\n",
    "    else:\n",
    "        max=y\n",
    "    for i in range(2,max+1):\n",
    "        if(x%i==0 and y%i==0):\n",
    "            hcf=i\n",
    "    print(\"hcf is :\",hcf)\n",
    "\n",
    "hcf(50,100)"
   ]
  },
  {
   "cell_type": "markdown",
   "id": "6a044307-a531-4809-9cba-64ade376ec87",
   "metadata": {},
   "source": [
    "## Default Parameters"
   ]
  },
  {
   "cell_type": "markdown",
   "id": "c883be5f-12ff-45ba-a624-96a2a8edb5d8",
   "metadata": {},
   "source": [
    "Assigning a default value to parameter, which is used when no argument is passed."
   ]
  },
  {
   "cell_type": "code",
   "execution_count": 102,
   "id": "1f4a2970-8df0-43d1-9c72-e03ff7fccd1b",
   "metadata": {},
   "outputs": [
    {
     "name": "stdout",
     "output_type": "stream",
     "text": [
      "6\n"
     ]
    }
   ],
   "source": [
    "def func(a,b=2):\n",
    "    print(a*b)  # default argument hmesha last me diya jata hai\n",
    "\n",
    "func(3)"
   ]
  },
  {
   "cell_type": "code",
   "execution_count": 104,
   "id": "fc542d6e-f05b-4fa9-bd9c-00a838472512",
   "metadata": {},
   "outputs": [
    {
     "name": "stdout",
     "output_type": "stream",
     "text": [
      "12\n"
     ]
    }
   ],
   "source": [
    "def func(a,b=2):\n",
    "    print(a*b)\n",
    "\n",
    "func(3,4)"
   ]
  },
  {
   "cell_type": "markdown",
   "id": "cea8f8e3-a3fc-465d-ae1f-77da8e392eef",
   "metadata": {},
   "source": [
    "### Q. WAF to print the length of a list. ( list is the parameter)"
   ]
  },
  {
   "cell_type": "code",
   "execution_count": 107,
   "id": "24d2e1e5-df08-4f1d-9832-e5eb21edbc09",
   "metadata": {},
   "outputs": [
    {
     "name": "stdout",
     "output_type": "stream",
     "text": [
      "5\n",
      "8\n"
     ]
    }
   ],
   "source": [
    "city=[\"jaipur\",\"goa\",\"ajmer\",\"sikar\",\"delhi\"]\n",
    "marks=[25,65,25,21,656,2151,124,12564]\n",
    "def list_len(list):\n",
    "    print(len(list))\n",
    "\n",
    "list_len(city)\n",
    "list_len(marks)"
   ]
  },
  {
   "cell_type": "markdown",
   "id": "cd99c0b0-c010-448a-bfa6-db63be718875",
   "metadata": {},
   "source": [
    "### Q. WAF to print the elements of a list in a single line. ( list is the parameter)"
   ]
  },
  {
   "cell_type": "code",
   "execution_count": 114,
   "id": "f713bcb8-cfee-40d1-afe0-8b8af9c4700b",
   "metadata": {},
   "outputs": [
    {
     "name": "stdout",
     "output_type": "stream",
     "text": [
      "jaipur goa ajmer sikar delhi "
     ]
    }
   ],
   "source": [
    "city=[\"jaipur\",\"goa\",\"ajmer\",\"sikar\",\"delhi\"]\n",
    "marks=[25,65,25,21,656,2151,124,12564]\n",
    "def list_len(list):\n",
    "    for item in list:\n",
    "        print(item,end=\" \")\n",
    "\n",
    "list_len(city)\n"
   ]
  },
  {
   "cell_type": "markdown",
   "id": "f5b54806-81a3-43bb-ae87-487ec86d9c59",
   "metadata": {},
   "source": [
    "### Q. WAF to find the factorial of n. (n is the parameter)"
   ]
  },
  {
   "cell_type": "code",
   "execution_count": 9,
   "id": "a9c4c10e-dd2d-4065-a869-e89d8b4a47df",
   "metadata": {},
   "outputs": [
    {
     "name": "stdout",
     "output_type": "stream",
     "text": [
      "720\n"
     ]
    }
   ],
   "source": [
    "def fact(n):\n",
    "    i=1\n",
    "    fac=1\n",
    "    while(i<=n):\n",
    "        fac=fac*i\n",
    "        i=i+1\n",
    "        \n",
    "    print(fac)\n",
    "\n",
    "\n",
    "fact(6)\n",
    "        \n",
    "        "
   ]
  },
  {
   "cell_type": "markdown",
   "id": "b8cc2588-6825-40ea-ae94-e59604f7eabe",
   "metadata": {},
   "source": [
    "### Q. WAF to convert USD to INR."
   ]
  },
  {
   "cell_type": "code",
   "execution_count": 12,
   "id": "7b8e4efe-11d2-42b3-befc-42f28fe5d41d",
   "metadata": {},
   "outputs": [
    {
     "name": "stdout",
     "output_type": "stream",
     "text": [
      "25 USD =  2075 INR\n"
     ]
    }
   ],
   "source": [
    "def converter(usd_val):\n",
    "    inr_val=usd_val*83\n",
    "    print(usd_val,\"USD = \",inr_val,\"INR\")\n",
    "\n",
    "converter(25)"
   ]
  },
  {
   "cell_type": "markdown",
   "id": "ad78fedf-8625-47f4-8dfa-7ed864add93a",
   "metadata": {},
   "source": [
    "# Types of argument passing"
   ]
  },
  {
   "cell_type": "markdown",
   "id": "c6215de1-f6bd-44d1-9c8f-5c31fc41fb33",
   "metadata": {},
   "source": [
    "## 1. Required argument"
   ]
  },
  {
   "cell_type": "code",
   "execution_count": 22,
   "id": "95e57c38-4ab6-413e-964b-b3555d982b41",
   "metadata": {},
   "outputs": [
    {
     "name": "stdout",
     "output_type": "stream",
     "text": [
      "EID:25 \n",
      "name:rahul \n",
      "salary:7500\n"
     ]
    }
   ],
   "source": [
    "def employ(eid,name,salary):\n",
    "    print(f\"EID:{eid} \\nname:{name} \\nsalary:{salary}\")\n",
    "\n",
    "employ(25,\"rahul\",7500)"
   ]
  },
  {
   "cell_type": "markdown",
   "id": "1366ce0a-d910-4906-8f4b-37042cdcfb6f",
   "metadata": {},
   "source": [
    "## 2. Positional argument "
   ]
  },
  {
   "cell_type": "code",
   "execution_count": 25,
   "id": "d3fd1314-adae-4a23-a604-89c7796dac50",
   "metadata": {},
   "outputs": [
    {
     "name": "stdout",
     "output_type": "stream",
     "text": [
      "EID:25 \n",
      "name:7500 \n",
      "salary:rahul\n"
     ]
    }
   ],
   "source": [
    "def employ(eid,name,salary):\n",
    "    print(f\"EID:{eid} \\nname:{name} \\nsalary:{salary}\")\n",
    "\n",
    "employ(25,7500,\"rahul\")"
   ]
  },
  {
   "cell_type": "markdown",
   "id": "60daea44-f413-4a25-a2e7-6527e213c926",
   "metadata": {},
   "source": [
    "## 3. Keyword+positional"
   ]
  },
  {
   "cell_type": "code",
   "execution_count": 32,
   "id": "8180204a-4d34-49c8-9acf-29aa978fcc40",
   "metadata": {},
   "outputs": [
    {
     "name": "stdout",
     "output_type": "stream",
     "text": [
      "EID:25 \n",
      "name:7500 \n",
      "salary:rahul\n"
     ]
    }
   ],
   "source": [
    "def employ(eid,name,salary):\n",
    "    print(f\"EID:{eid} \\nname:{name} \\nsalary:{salary}\")\n",
    "\n",
    "employ(25,salary=\"rahul\",name=7500)"
   ]
  },
  {
   "cell_type": "code",
   "execution_count": 42,
   "id": "8c542062-6ca6-4285-8e4b-f7e91bd3433b",
   "metadata": {},
   "outputs": [
    {
     "name": "stdout",
     "output_type": "stream",
     "text": [
      "EID:rahul \n",
      "name:7500 \n",
      "salary:10000\n"
     ]
    }
   ],
   "source": [
    "def employ(eid,name,salary):\n",
    "    print(f\"EID:{eid} \\nname:{name} \\nsalary:{salary}\")\n",
    "\n",
    "employ(eid=\"rahul\",name=7500,salary=10000)"
   ]
  },
  {
   "cell_type": "markdown",
   "id": "776e5bc9-9676-4732-abe3-839eee0f4c53",
   "metadata": {},
   "source": [
    "## 4. Default Arguments"
   ]
  },
  {
   "cell_type": "code",
   "execution_count": 45,
   "id": "3f047951-1c06-4342-ae86-7fe1d1096af9",
   "metadata": {},
   "outputs": [
    {
     "name": "stdout",
     "output_type": "stream",
     "text": [
      "EID:25 \n",
      "name:rahul \n",
      "salary:15000\n"
     ]
    }
   ],
   "source": [
    "def employ(eid,name,salary=15000):\n",
    "    print(f\"EID:{eid} \\nname:{name} \\nsalary:{salary}\")\n",
    "\n",
    "employ(25,\"rahul\")"
   ]
  },
  {
   "cell_type": "code",
   "execution_count": 47,
   "id": "04cc4b0b-b0a1-4021-9593-4d293fd0393f",
   "metadata": {},
   "outputs": [
    {
     "name": "stdout",
     "output_type": "stream",
     "text": [
      "EID:25 \n",
      "name:rahul \n",
      "salary:25000\n"
     ]
    }
   ],
   "source": [
    "def employ(eid,name,salary=15000):\n",
    "    print(f\"EID:{eid} \\nname:{name} \\nsalary:{salary}\")\n",
    "\n",
    "employ(25,\"rahul\",25000)"
   ]
  },
  {
   "cell_type": "markdown",
   "id": "889a83f1-262b-4976-9713-02c3b24a7a74",
   "metadata": {},
   "source": [
    "## 5. Variable Length Argument /  Args Argument"
   ]
  },
  {
   "cell_type": "code",
   "execution_count": 56,
   "id": "af8a568e-773f-45cf-b057-635ba094e858",
   "metadata": {},
   "outputs": [
    {
     "name": "stdout",
     "output_type": "stream",
     "text": [
      "('rahul', 100, 'hey') <class 'tuple'>\n",
      "('jatin', 'hello') <class 'tuple'>\n",
      "() <class 'tuple'>\n"
     ]
    }
   ],
   "source": [
    "def facebook(*data):\n",
    "    print(data,type(data))\n",
    "facebook(\"rahul\",100,\"hey\")\n",
    "facebook(\"jatin\",\"hello\")\n",
    "facebook()\n",
    "    "
   ]
  },
  {
   "cell_type": "markdown",
   "id": "5dca8cab-1eec-48e7-bbf5-ab1d0024e8c6",
   "metadata": {},
   "source": [
    "## 6. Keyword Variable Length & Kwargs Argument "
   ]
  },
  {
   "cell_type": "code",
   "execution_count": 61,
   "id": "1be800d0-aebc-4acc-9140-dd36f8f33e22",
   "metadata": {},
   "outputs": [
    {
     "name": "stdout",
     "output_type": "stream",
     "text": [
      "{'name': 'rahul', 'eid': 100, 'x': 'hey'} <class 'dict'>\n",
      "{'name': 'jatin', 'y': 'hello'} <class 'dict'>\n",
      "{} <class 'dict'>\n"
     ]
    }
   ],
   "source": [
    "def facebook(**data):\n",
    "    print(data,type(data))\n",
    "facebook(name=\"rahul\",eid=100,x=\"hey\")\n",
    "facebook(name=\"jatin\",y=\"hello\")\n",
    "facebook()\n",
    "    "
   ]
  },
  {
   "cell_type": "code",
   "execution_count": null,
   "id": "2e6de0f3-7005-49ce-afdc-463d3c963f00",
   "metadata": {},
   "outputs": [],
   "source": []
  }
 ],
 "metadata": {
  "kernelspec": {
   "display_name": "Python 3 (ipykernel)",
   "language": "python",
   "name": "python3"
  },
  "language_info": {
   "codemirror_mode": {
    "name": "ipython",
    "version": 3
   },
   "file_extension": ".py",
   "mimetype": "text/x-python",
   "name": "python",
   "nbconvert_exporter": "python",
   "pygments_lexer": "ipython3",
   "version": "3.12.4"
  }
 },
 "nbformat": 4,
 "nbformat_minor": 5
}
